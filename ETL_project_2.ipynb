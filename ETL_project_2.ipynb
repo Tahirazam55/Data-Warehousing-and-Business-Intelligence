{
 "cells": [
  {
   "cell_type": "markdown",
   "id": "cba252cb-c213-4b29-bc0d-908590ad0bfd",
   "metadata": {},
   "source": [
    "### **ETL Pipeline – University Student Lifestyle Data**\n",
    "\n",
    "### Build an ETL (Extract, Transform, Load) pipeline to combine student lifestyle data from two universities, one shared via Google Sheets and the other via PostgreSQL. You will perform data extraction, cleaning, transformation, and finally load the cleaned dataset into Google BigQuery."
   ]
  },
  {
   "cell_type": "markdown",
   "id": "5f33db37-7a43-4e72-b794-d9439c0f2b62",
   "metadata": {},
   "source": [
    "## Assignment:\r\n",
    "1. Install and Import Required Libraries\r\n",
    "2. Connect to PostgreSQL (University A)\r\n",
    "● Fetch all records from the table student_lifestyle_dataset using a SQL query.\r\n",
    "● Load the data into a DataFrame called university_a.\r\n",
    "\r\n",
    "3. Extract Data from Google Sheets and load the data into a DataFrame called\r\n",
    "University_b.\r\n",
    "4. Add a new column named university in both DataFrames to identify their source:\r\n",
    "● Assign the value 'A' for records extracted from PostgreSQL.\r\n",
    "● Assign the value 'B' for records extracted from Google Sheets.\r\n",
    "\r\n",
    "5. Display the top rows of both DataFrames to verify successful extraction.\r\n",
    "6. Standardise Columns. Perform the following:\r\n",
    "● Convert all column names to lowercase.\r\n",
    "● Remove unwanted spaces or special characters in column names.\r\n",
    "● Ensure both DataFrames have identical column names.\r\n",
    "● If any mismatch exists, rename the columns appropriately.\r\n",
    "\r\n",
    "7. Combine Both Datasets.\r\n",
    "8. Data Cleaning & Transformation. Perform the following:\r\n",
    "● Identify and handle missing values appropriately (fill/drop).\r\n",
    "● Check column data types and fix incorrect ones.\r\n",
    "● Detect and remove duplicate rows.\r\n",
    "9. Connect to BigQuery and Load Data into BigQuery.\r\n",
    "10. Verification\r\n",
    "● Go to your BigQuery console.\r\n",
    "● Verify that the table has been created and contains all records."
   ]
  },
  {
   "cell_type": "code",
   "execution_count": 4,
   "id": "848cb204-216f-484f-8228-0fe5db61e3db",
   "metadata": {},
   "outputs": [
    {
     "name": "stdout",
     "output_type": "stream",
     "text": [
      "Requirement already satisfied: psycopg2-binary in c:\\users\\hp\\anaconda3\\lib\\site-packages (2.9.10)\n",
      "Note: you may need to restart the kernel to use updated packages.\n"
     ]
    },
    {
     "name": "stderr",
     "output_type": "stream",
     "text": [
      "\n",
      "[notice] A new release of pip is available: 25.1.1 -> 25.3\n",
      "[notice] To update, run: python.exe -m pip install --upgrade pip\n"
     ]
    }
   ],
   "source": [
    "pip install psycopg2-binary\n"
   ]
  },
  {
   "cell_type": "code",
   "execution_count": 51,
   "id": "7c7878ee-77de-465f-bba8-5e92a5c811c4",
   "metadata": {},
   "outputs": [],
   "source": [
    "import pandas as pd              # Data manipulation with DataFrames\n",
    "from sqlalchemy import create_engine, text  # DB connection and executing SQL\n",
    "import datetime                  # Work with dates and times\n",
    "from google.cloud import bigquery  # Interact with BigQuery\n",
    "from google.oauth2 import service_account  # Authenticate with Google Cloud\n",
    "import warnings\n",
    "warnings.filterwarnings('ignore')  # Suppress warning messages\n"
   ]
  },
  {
   "cell_type": "code",
   "execution_count": 52,
   "id": "11277aa3-bc36-4546-9871-5c295a06bb8f",
   "metadata": {},
   "outputs": [],
   "source": [
    "# Connection parameters\n",
    "db_user = \"postgres\"         # your PostgreSQL username\n",
    "db_password = \"tahir\"             # Please enter your PostgreSQL password\n",
    "db_host = \"localhost\"        # host (use '127.0.0.1' if localhost doesn't work)\n",
    "db_port = \"5432\"             # default PostgreSQL port\n",
    "db_name = \"university\"     # your database name\n",
    "\n",
    "# Create the connection string\n",
    "connection_string = f\"postgresql://{db_user}:{db_password}@{db_host}:{db_port}/{db_name}\"\n",
    "\n",
    "# Create engine\n",
    "engine = create_engine(connection_string)"
   ]
  },
  {
   "cell_type": "code",
   "execution_count": 53,
   "id": "c37ef6e4-e96a-4ca5-8d9a-3a6766597b41",
   "metadata": {},
   "outputs": [
    {
     "name": "stdout",
     "output_type": "stream",
     "text": [
      "Connected to: PostgreSQL 17.2 on x86_64-windows, compiled by msvc-19.42.34435, 64-bit\n"
     ]
    }
   ],
   "source": [
    "\n",
    "try:\n",
    "    with engine.connect() as conn:\n",
    "        result = conn.execute(text(\"SELECT version();\"))\n",
    "        for row in result:\n",
    "            print(\"Connected to:\", row[0])\n",
    "except Exception as e:\n",
    "    print(\"Connection failed:\", e)\n"
   ]
  },
  {
   "cell_type": "code",
   "execution_count": 54,
   "id": "44efc49d-d0da-4aee-973a-82757249bfe3",
   "metadata": {},
   "outputs": [
    {
     "data": {
      "text/plain": [
       "<sqlalchemy.sql.elements.TextClause object at 0x0000019CC528BE00>"
      ]
     },
     "execution_count": 54,
     "metadata": {},
     "output_type": "execute_result"
    }
   ],
   "source": [
    "query = text(\"SELECT * FROM student_lifestyle_dataset ;\")\n",
    "query\n"
   ]
  },
  {
   "cell_type": "code",
   "execution_count": 55,
   "id": "b5758822-6396-43f6-9de0-57cbf7943672",
   "metadata": {},
   "outputs": [
    {
     "data": {
      "text/html": [
       "<div>\n",
       "<style scoped>\n",
       "    .dataframe tbody tr th:only-of-type {\n",
       "        vertical-align: middle;\n",
       "    }\n",
       "\n",
       "    .dataframe tbody tr th {\n",
       "        vertical-align: top;\n",
       "    }\n",
       "\n",
       "    .dataframe thead th {\n",
       "        text-align: right;\n",
       "    }\n",
       "</style>\n",
       "<table border=\"1\" class=\"dataframe\">\n",
       "  <thead>\n",
       "    <tr style=\"text-align: right;\">\n",
       "      <th></th>\n",
       "      <th>student_id</th>\n",
       "      <th>study_hours_per_day</th>\n",
       "      <th>extracurricular_hours_per_day</th>\n",
       "      <th>sleep_hours_per_day</th>\n",
       "      <th>social_hours_per_day</th>\n",
       "      <th>physical_activity_hours_per_day</th>\n",
       "      <th>gpa</th>\n",
       "      <th>stress_level</th>\n",
       "    </tr>\n",
       "  </thead>\n",
       "  <tbody>\n",
       "    <tr>\n",
       "      <th>0</th>\n",
       "      <td>1</td>\n",
       "      <td>2.5</td>\n",
       "      <td>1.0</td>\n",
       "      <td>7.5</td>\n",
       "      <td>2.0</td>\n",
       "      <td>0.5</td>\n",
       "      <td>3.1</td>\n",
       "      <td>Moderate</td>\n",
       "    </tr>\n",
       "    <tr>\n",
       "      <th>1</th>\n",
       "      <td>2</td>\n",
       "      <td>3.0</td>\n",
       "      <td>0.5</td>\n",
       "      <td>6.0</td>\n",
       "      <td>1.5</td>\n",
       "      <td>1.0</td>\n",
       "      <td>3.5</td>\n",
       "      <td>Low</td>\n",
       "    </tr>\n",
       "    <tr>\n",
       "      <th>2</th>\n",
       "      <td>3</td>\n",
       "      <td>1.5</td>\n",
       "      <td>2.5</td>\n",
       "      <td>5.5</td>\n",
       "      <td>3.0</td>\n",
       "      <td>0.5</td>\n",
       "      <td>2.8</td>\n",
       "      <td>High</td>\n",
       "    </tr>\n",
       "    <tr>\n",
       "      <th>3</th>\n",
       "      <td>4</td>\n",
       "      <td>4.0</td>\n",
       "      <td>1.5</td>\n",
       "      <td>7.0</td>\n",
       "      <td>2.5</td>\n",
       "      <td>1.0</td>\n",
       "      <td>3.9</td>\n",
       "      <td>Low</td>\n",
       "    </tr>\n",
       "    <tr>\n",
       "      <th>4</th>\n",
       "      <td>5</td>\n",
       "      <td>2.0</td>\n",
       "      <td>1.0</td>\n",
       "      <td>6.5</td>\n",
       "      <td>2.0</td>\n",
       "      <td>0.8</td>\n",
       "      <td>3.2</td>\n",
       "      <td>Moderate</td>\n",
       "    </tr>\n",
       "  </tbody>\n",
       "</table>\n",
       "</div>"
      ],
      "text/plain": [
       "   student_id  study_hours_per_day  extracurricular_hours_per_day  \\\n",
       "0           1                  2.5                            1.0   \n",
       "1           2                  3.0                            0.5   \n",
       "2           3                  1.5                            2.5   \n",
       "3           4                  4.0                            1.5   \n",
       "4           5                  2.0                            1.0   \n",
       "\n",
       "   sleep_hours_per_day  social_hours_per_day  physical_activity_hours_per_day  \\\n",
       "0                  7.5                   2.0                              0.5   \n",
       "1                  6.0                   1.5                              1.0   \n",
       "2                  5.5                   3.0                              0.5   \n",
       "3                  7.0                   2.5                              1.0   \n",
       "4                  6.5                   2.0                              0.8   \n",
       "\n",
       "   gpa stress_level  \n",
       "0  3.1     Moderate  \n",
       "1  3.5          Low  \n",
       "2  2.8         High  \n",
       "3  3.9          Low  \n",
       "4  3.2     Moderate  "
      ]
     },
     "execution_count": 55,
     "metadata": {},
     "output_type": "execute_result"
    }
   ],
   "source": [
    "# Fetch data into pandas DataFrame\n",
    "A = pd.read_sql(query, engine)\n",
    "A.head()"
   ]
  },
  {
   "cell_type": "code",
   "execution_count": 56,
   "id": "5e1520f8-19d6-4b29-b437-7ed56ad3a31e",
   "metadata": {},
   "outputs": [],
   "source": [
    "url = \"https://docs.google.com/spreadsheets/d/1FoGXo56G8aV129yR4CnuVRwWit_pf9ZVADO2bmR-oMk/export?format=csv\"\n",
    "B = pd.read_csv(url)"
   ]
  },
  {
   "cell_type": "code",
   "execution_count": 57,
   "id": "3a325afa-32e5-4dc3-9b16-02913da7f73a",
   "metadata": {},
   "outputs": [
    {
     "data": {
      "text/html": [
       "<div>\n",
       "<style scoped>\n",
       "    .dataframe tbody tr th:only-of-type {\n",
       "        vertical-align: middle;\n",
       "    }\n",
       "\n",
       "    .dataframe tbody tr th {\n",
       "        vertical-align: top;\n",
       "    }\n",
       "\n",
       "    .dataframe thead th {\n",
       "        text-align: right;\n",
       "    }\n",
       "</style>\n",
       "<table border=\"1\" class=\"dataframe\">\n",
       "  <thead>\n",
       "    <tr style=\"text-align: right;\">\n",
       "      <th></th>\n",
       "      <th>Student_ID</th>\n",
       "      <th>Study_Hours_Per_Day</th>\n",
       "      <th>Extracurricular_Hours_Per_Day</th>\n",
       "      <th>Sleep_Hours_Per_Day</th>\n",
       "      <th>Social_Hours_Per_Day</th>\n",
       "      <th>Physical_Activity_Hours_Per_Day</th>\n",
       "      <th>GPA</th>\n",
       "      <th>Stress_Level</th>\n",
       "    </tr>\n",
       "  </thead>\n",
       "  <tbody>\n",
       "    <tr>\n",
       "      <th>0</th>\n",
       "      <td>1</td>\n",
       "      <td>6.9</td>\n",
       "      <td>3.8</td>\n",
       "      <td>8.7</td>\n",
       "      <td>2.8</td>\n",
       "      <td>1.8</td>\n",
       "      <td>2.99</td>\n",
       "      <td>Moderate</td>\n",
       "    </tr>\n",
       "    <tr>\n",
       "      <th>1</th>\n",
       "      <td>2</td>\n",
       "      <td>5.3</td>\n",
       "      <td>3.5</td>\n",
       "      <td>8.0</td>\n",
       "      <td>4.2</td>\n",
       "      <td>3.0</td>\n",
       "      <td>2.75</td>\n",
       "      <td>Low</td>\n",
       "    </tr>\n",
       "    <tr>\n",
       "      <th>2</th>\n",
       "      <td>3</td>\n",
       "      <td>5.1</td>\n",
       "      <td>3.9</td>\n",
       "      <td>9.2</td>\n",
       "      <td>1.2</td>\n",
       "      <td>4.6</td>\n",
       "      <td>2.67</td>\n",
       "      <td>Low</td>\n",
       "    </tr>\n",
       "    <tr>\n",
       "      <th>3</th>\n",
       "      <td>4</td>\n",
       "      <td>6.5</td>\n",
       "      <td>2.1</td>\n",
       "      <td>7.2</td>\n",
       "      <td>1.7</td>\n",
       "      <td>6.5</td>\n",
       "      <td>2.88</td>\n",
       "      <td>Moderate</td>\n",
       "    </tr>\n",
       "    <tr>\n",
       "      <th>4</th>\n",
       "      <td>5</td>\n",
       "      <td>8.1</td>\n",
       "      <td>0.6</td>\n",
       "      <td>6.5</td>\n",
       "      <td>2.2</td>\n",
       "      <td>6.6</td>\n",
       "      <td>3.51</td>\n",
       "      <td>High</td>\n",
       "    </tr>\n",
       "  </tbody>\n",
       "</table>\n",
       "</div>"
      ],
      "text/plain": [
       "   Student_ID  Study_Hours_Per_Day  Extracurricular_Hours_Per_Day  \\\n",
       "0           1                  6.9                            3.8   \n",
       "1           2                  5.3                            3.5   \n",
       "2           3                  5.1                            3.9   \n",
       "3           4                  6.5                            2.1   \n",
       "4           5                  8.1                            0.6   \n",
       "\n",
       "   Sleep_Hours_Per_Day  Social_Hours_Per_Day  Physical_Activity_Hours_Per_Day  \\\n",
       "0                  8.7                   2.8                              1.8   \n",
       "1                  8.0                   4.2                              3.0   \n",
       "2                  9.2                   1.2                              4.6   \n",
       "3                  7.2                   1.7                              6.5   \n",
       "4                  6.5                   2.2                              6.6   \n",
       "\n",
       "    GPA Stress_Level  \n",
       "0  2.99     Moderate  \n",
       "1  2.75          Low  \n",
       "2  2.67          Low  \n",
       "3  2.88     Moderate  \n",
       "4  3.51         High  "
      ]
     },
     "execution_count": 57,
     "metadata": {},
     "output_type": "execute_result"
    }
   ],
   "source": [
    "B.head()\n"
   ]
  },
  {
   "cell_type": "code",
   "execution_count": null,
   "id": "a4458a3d-b860-419f-b810-893734ab1b73",
   "metadata": {},
   "outputs": [],
   "source": []
  },
  {
   "cell_type": "code",
   "execution_count": null,
   "id": "766e2a6a-cfc9-48f7-9528-d006b5e59429",
   "metadata": {},
   "outputs": [],
   "source": []
  },
  {
   "cell_type": "code",
   "execution_count": 64,
   "id": "97b3171c-f7a7-464b-8e15-fb7c2c881951",
   "metadata": {},
   "outputs": [
    {
     "data": {
      "text/html": [
       "<div>\n",
       "<style scoped>\n",
       "    .dataframe tbody tr th:only-of-type {\n",
       "        vertical-align: middle;\n",
       "    }\n",
       "\n",
       "    .dataframe tbody tr th {\n",
       "        vertical-align: top;\n",
       "    }\n",
       "\n",
       "    .dataframe thead th {\n",
       "        text-align: right;\n",
       "    }\n",
       "</style>\n",
       "<table border=\"1\" class=\"dataframe\">\n",
       "  <thead>\n",
       "    <tr style=\"text-align: right;\">\n",
       "      <th></th>\n",
       "      <th>student_id</th>\n",
       "      <th>study_hours_per_day</th>\n",
       "      <th>extracurricular_hours_per_day</th>\n",
       "      <th>sleep_hours_per_day</th>\n",
       "      <th>social_hours_per_day</th>\n",
       "      <th>physical_activity_hours_per_day</th>\n",
       "      <th>gpa</th>\n",
       "      <th>stress_level</th>\n",
       "    </tr>\n",
       "  </thead>\n",
       "  <tbody>\n",
       "    <tr>\n",
       "      <th>0</th>\n",
       "      <td>1</td>\n",
       "      <td>2.5</td>\n",
       "      <td>1.0</td>\n",
       "      <td>7.5</td>\n",
       "      <td>2.0</td>\n",
       "      <td>0.5</td>\n",
       "      <td>3.1</td>\n",
       "      <td>Moderate</td>\n",
       "    </tr>\n",
       "    <tr>\n",
       "      <th>1</th>\n",
       "      <td>2</td>\n",
       "      <td>3.0</td>\n",
       "      <td>0.5</td>\n",
       "      <td>6.0</td>\n",
       "      <td>1.5</td>\n",
       "      <td>1.0</td>\n",
       "      <td>3.5</td>\n",
       "      <td>Low</td>\n",
       "    </tr>\n",
       "    <tr>\n",
       "      <th>2</th>\n",
       "      <td>3</td>\n",
       "      <td>1.5</td>\n",
       "      <td>2.5</td>\n",
       "      <td>5.5</td>\n",
       "      <td>3.0</td>\n",
       "      <td>0.5</td>\n",
       "      <td>2.8</td>\n",
       "      <td>High</td>\n",
       "    </tr>\n",
       "    <tr>\n",
       "      <th>3</th>\n",
       "      <td>4</td>\n",
       "      <td>4.0</td>\n",
       "      <td>1.5</td>\n",
       "      <td>7.0</td>\n",
       "      <td>2.5</td>\n",
       "      <td>1.0</td>\n",
       "      <td>3.9</td>\n",
       "      <td>Low</td>\n",
       "    </tr>\n",
       "    <tr>\n",
       "      <th>4</th>\n",
       "      <td>5</td>\n",
       "      <td>2.0</td>\n",
       "      <td>1.0</td>\n",
       "      <td>6.5</td>\n",
       "      <td>2.0</td>\n",
       "      <td>0.8</td>\n",
       "      <td>3.2</td>\n",
       "      <td>Moderate</td>\n",
       "    </tr>\n",
       "  </tbody>\n",
       "</table>\n",
       "</div>"
      ],
      "text/plain": [
       "   student_id  study_hours_per_day  extracurricular_hours_per_day  \\\n",
       "0           1                  2.5                            1.0   \n",
       "1           2                  3.0                            0.5   \n",
       "2           3                  1.5                            2.5   \n",
       "3           4                  4.0                            1.5   \n",
       "4           5                  2.0                            1.0   \n",
       "\n",
       "   sleep_hours_per_day  social_hours_per_day  physical_activity_hours_per_day  \\\n",
       "0                  7.5                   2.0                              0.5   \n",
       "1                  6.0                   1.5                              1.0   \n",
       "2                  5.5                   3.0                              0.5   \n",
       "3                  7.0                   2.5                              1.0   \n",
       "4                  6.5                   2.0                              0.8   \n",
       "\n",
       "   gpa stress_level  \n",
       "0  3.1     Moderate  \n",
       "1  3.5          Low  \n",
       "2  2.8         High  \n",
       "3  3.9          Low  \n",
       "4  3.2     Moderate  "
      ]
     },
     "execution_count": 64,
     "metadata": {},
     "output_type": "execute_result"
    }
   ],
   "source": [
    "A.head()"
   ]
  },
  {
   "cell_type": "code",
   "execution_count": 69,
   "id": "a33791b4-32a7-43be-a547-97f19838d861",
   "metadata": {},
   "outputs": [
    {
     "data": {
      "text/plain": [
       "(10, 8)"
      ]
     },
     "execution_count": 69,
     "metadata": {},
     "output_type": "execute_result"
    }
   ],
   "source": [
    "A.shape"
   ]
  },
  {
   "cell_type": "code",
   "execution_count": 73,
   "id": "8de41e7e-7134-487c-8b14-ead5f9785473",
   "metadata": {},
   "outputs": [
    {
     "name": "stdout",
     "output_type": "stream",
     "text": [
      "A columns: ['student_id', 'study_hours_per_day', 'extracurricular_hours_per_day', 'sleep_hours_per_day', 'social_hours_per_day', 'physical_activity_hours_per_day', 'gpa', 'stress_level']\n",
      "B columns: ['student_id', 'study_hours_per_day', 'extracurricular_hours_per_day', 'sleep_hours_per_day', 'social_hours_per_day', 'physical_activity_hours_per_day', 'gpa', 'stress_level']\n"
     ]
    }
   ],
   "source": [
    "# Step 6 (part): Convert all column names to lowercase\n",
    "\n",
    "A.columns = A.columns.str.lower()\n",
    "B.columns = B.columns.str.lower()\n",
    "\n",
    "\n",
    "print(\"A columns:\", list(A.columns))\n",
    "print(\"B columns:\", list(B.columns))\n"
   ]
  },
  {
   "cell_type": "code",
   "execution_count": 66,
   "id": "efe0b1b8-4b6f-432c-a4a6-bba296df0b52",
   "metadata": {},
   "outputs": [],
   "source": [
    "df= pd.concat([A,B], ignore_index=True)\n"
   ]
  },
  {
   "cell_type": "code",
   "execution_count": 67,
   "id": "a89bdbe3-c5f4-42e6-978a-0c0e668a8182",
   "metadata": {},
   "outputs": [
    {
     "data": {
      "text/html": [
       "<div>\n",
       "<style scoped>\n",
       "    .dataframe tbody tr th:only-of-type {\n",
       "        vertical-align: middle;\n",
       "    }\n",
       "\n",
       "    .dataframe tbody tr th {\n",
       "        vertical-align: top;\n",
       "    }\n",
       "\n",
       "    .dataframe thead th {\n",
       "        text-align: right;\n",
       "    }\n",
       "</style>\n",
       "<table border=\"1\" class=\"dataframe\">\n",
       "  <thead>\n",
       "    <tr style=\"text-align: right;\">\n",
       "      <th></th>\n",
       "      <th>student_id</th>\n",
       "      <th>study_hours_per_day</th>\n",
       "      <th>extracurricular_hours_per_day</th>\n",
       "      <th>sleep_hours_per_day</th>\n",
       "      <th>social_hours_per_day</th>\n",
       "      <th>physical_activity_hours_per_day</th>\n",
       "      <th>gpa</th>\n",
       "      <th>stress_level</th>\n",
       "    </tr>\n",
       "  </thead>\n",
       "  <tbody>\n",
       "    <tr>\n",
       "      <th>0</th>\n",
       "      <td>1</td>\n",
       "      <td>2.5</td>\n",
       "      <td>1.0</td>\n",
       "      <td>7.5</td>\n",
       "      <td>2.0</td>\n",
       "      <td>0.5</td>\n",
       "      <td>3.1</td>\n",
       "      <td>Moderate</td>\n",
       "    </tr>\n",
       "    <tr>\n",
       "      <th>1</th>\n",
       "      <td>2</td>\n",
       "      <td>3.0</td>\n",
       "      <td>0.5</td>\n",
       "      <td>6.0</td>\n",
       "      <td>1.5</td>\n",
       "      <td>1.0</td>\n",
       "      <td>3.5</td>\n",
       "      <td>Low</td>\n",
       "    </tr>\n",
       "    <tr>\n",
       "      <th>2</th>\n",
       "      <td>3</td>\n",
       "      <td>1.5</td>\n",
       "      <td>2.5</td>\n",
       "      <td>5.5</td>\n",
       "      <td>3.0</td>\n",
       "      <td>0.5</td>\n",
       "      <td>2.8</td>\n",
       "      <td>High</td>\n",
       "    </tr>\n",
       "    <tr>\n",
       "      <th>3</th>\n",
       "      <td>4</td>\n",
       "      <td>4.0</td>\n",
       "      <td>1.5</td>\n",
       "      <td>7.0</td>\n",
       "      <td>2.5</td>\n",
       "      <td>1.0</td>\n",
       "      <td>3.9</td>\n",
       "      <td>Low</td>\n",
       "    </tr>\n",
       "    <tr>\n",
       "      <th>4</th>\n",
       "      <td>5</td>\n",
       "      <td>2.0</td>\n",
       "      <td>1.0</td>\n",
       "      <td>6.5</td>\n",
       "      <td>2.0</td>\n",
       "      <td>0.8</td>\n",
       "      <td>3.2</td>\n",
       "      <td>Moderate</td>\n",
       "    </tr>\n",
       "  </tbody>\n",
       "</table>\n",
       "</div>"
      ],
      "text/plain": [
       "   student_id  study_hours_per_day  extracurricular_hours_per_day  \\\n",
       "0           1                  2.5                            1.0   \n",
       "1           2                  3.0                            0.5   \n",
       "2           3                  1.5                            2.5   \n",
       "3           4                  4.0                            1.5   \n",
       "4           5                  2.0                            1.0   \n",
       "\n",
       "   sleep_hours_per_day  social_hours_per_day  physical_activity_hours_per_day  \\\n",
       "0                  7.5                   2.0                              0.5   \n",
       "1                  6.0                   1.5                              1.0   \n",
       "2                  5.5                   3.0                              0.5   \n",
       "3                  7.0                   2.5                              1.0   \n",
       "4                  6.5                   2.0                              0.8   \n",
       "\n",
       "   gpa stress_level  \n",
       "0  3.1     Moderate  \n",
       "1  3.5          Low  \n",
       "2  2.8         High  \n",
       "3  3.9          Low  \n",
       "4  3.2     Moderate  "
      ]
     },
     "execution_count": 67,
     "metadata": {},
     "output_type": "execute_result"
    }
   ],
   "source": [
    "df.head()"
   ]
  },
  {
   "cell_type": "code",
   "execution_count": 71,
   "id": "cd64731b-779a-4078-8a73-4fb92f8e228e",
   "metadata": {},
   "outputs": [
    {
     "data": {
      "text/plain": [
       "(2010, 8)"
      ]
     },
     "execution_count": 71,
     "metadata": {},
     "output_type": "execute_result"
    }
   ],
   "source": [
    "B.shape"
   ]
  },
  {
   "cell_type": "code",
   "execution_count": 72,
   "id": "067a8e92-025f-4426-8ab5-76ccd14807bd",
   "metadata": {},
   "outputs": [
    {
     "data": {
      "text/plain": [
       "(10, 8)"
      ]
     },
     "execution_count": 72,
     "metadata": {},
     "output_type": "execute_result"
    }
   ],
   "source": [
    "A.shape"
   ]
  },
  {
   "cell_type": "code",
   "execution_count": 70,
   "id": "1ed349d1-cdf4-428c-9531-cffdd937132d",
   "metadata": {},
   "outputs": [
    {
     "data": {
      "text/plain": [
       "(2020, 8)"
      ]
     },
     "execution_count": 70,
     "metadata": {},
     "output_type": "execute_result"
    }
   ],
   "source": [
    "df.shape"
   ]
  },
  {
   "cell_type": "code",
   "execution_count": 74,
   "id": "fb0debe5-9c1e-4174-a167-a8303a4116a9",
   "metadata": {},
   "outputs": [
    {
     "data": {
      "text/plain": [
       "student_id                         0\n",
       "study_hours_per_day                0\n",
       "extracurricular_hours_per_day      0\n",
       "sleep_hours_per_day                0\n",
       "social_hours_per_day               0\n",
       "physical_activity_hours_per_day    0\n",
       "gpa                                3\n",
       "stress_level                       0\n",
       "dtype: int64"
      ]
     },
     "execution_count": 74,
     "metadata": {},
     "output_type": "execute_result"
    }
   ],
   "source": [
    "df.isnull().sum()"
   ]
  },
  {
   "cell_type": "code",
   "execution_count": 75,
   "id": "808b28a1-1ad4-4557-b2b7-0ece8fc61a2b",
   "metadata": {},
   "outputs": [],
   "source": [
    "df['gpa'].fillna(df['gpa'].mean(), inplace=True)\n"
   ]
  },
  {
   "cell_type": "code",
   "execution_count": 76,
   "id": "232ae40f-a177-4f24-8c81-cb70761134c5",
   "metadata": {},
   "outputs": [
    {
     "data": {
      "text/plain": [
       "student_id                         0\n",
       "study_hours_per_day                0\n",
       "extracurricular_hours_per_day      0\n",
       "sleep_hours_per_day                0\n",
       "social_hours_per_day               0\n",
       "physical_activity_hours_per_day    0\n",
       "gpa                                0\n",
       "stress_level                       0\n",
       "dtype: int64"
      ]
     },
     "execution_count": 76,
     "metadata": {},
     "output_type": "execute_result"
    }
   ],
   "source": [
    "df.isnull().sum()"
   ]
  },
  {
   "cell_type": "code",
   "execution_count": 77,
   "id": "f0a79e9d-04a8-4d07-b8e3-0d5d85046fa7",
   "metadata": {},
   "outputs": [
    {
     "data": {
      "text/plain": [
       "student_id                           int64\n",
       "study_hours_per_day                float64\n",
       "extracurricular_hours_per_day      float64\n",
       "sleep_hours_per_day                float64\n",
       "social_hours_per_day               float64\n",
       "physical_activity_hours_per_day    float64\n",
       "gpa                                float64\n",
       "stress_level                        object\n",
       "dtype: object"
      ]
     },
     "execution_count": 77,
     "metadata": {},
     "output_type": "execute_result"
    }
   ],
   "source": [
    "df.dtypes"
   ]
  },
  {
   "cell_type": "code",
   "execution_count": 84,
   "id": "a13b23b0-28f7-43b1-8609-1658eb823f78",
   "metadata": {},
   "outputs": [
    {
     "data": {
      "text/plain": [
       "9"
      ]
     },
     "execution_count": 84,
     "metadata": {},
     "output_type": "execute_result"
    }
   ],
   "source": [
    "duplicates = df.duplicated().sum()  # we not droping duplicates for now\n",
    "duplicates"
   ]
  },
  {
   "cell_type": "code",
   "execution_count": null,
   "id": "75295dbc-115d-421f-8787-51a49e7a95d4",
   "metadata": {},
   "outputs": [],
   "source": []
  },
  {
   "cell_type": "code",
   "execution_count": 85,
   "id": "7c0c6eb4-8a99-4d66-adc8-6342d4323f73",
   "metadata": {},
   "outputs": [
    {
     "name": "stdout",
     "output_type": "stream",
     "text": [
      "Connected to BigQuery project: datawarehouse8\n"
     ]
    }
   ],
   "source": [
    "credentials = service_account.Credentials.from_service_account_file(\"datawarehouse8-550da3f60e12.json\")\n",
    "client = bigquery.Client(credentials=credentials, project=credentials.project_id)\n",
    "\n",
    "print(\"Connected to BigQuery project:\", client.project)\n"
   ]
  },
  {
   "cell_type": "code",
   "execution_count": null,
   "id": "e96bcc53-8dfd-4d38-b95a-6973b8047fd7",
   "metadata": {},
   "outputs": [],
   "source": []
  },
  {
   "cell_type": "code",
   "execution_count": 90,
   "id": "6de40f95-b4d1-4cc9-b31b-b17829c42881",
   "metadata": {},
   "outputs": [
    {
     "name": "stdout",
     "output_type": "stream",
     "text": [
      "Data successfully loaded to BigQuery: datawarehouse8.student_lifestyle_dataset\n"
     ]
    }
   ],
   "source": [
    "# Define destination table\n",
    "table_id = f\"{client.project}.student_lifestyle_dataset\"\n",
    "\n",
    "# Load data to BigQuery\n",
    "job = client.load_table_from_dataframe(df, table_id)\n",
    "job.result()  # wait until the job completes\n",
    "\n",
    "print(\"Data successfully loaded to BigQuery:\", table_id)"
   ]
  },
  {
   "cell_type": "code",
   "execution_count": null,
   "id": "135f1f46-1d40-440f-8f16-058e936a8a91",
   "metadata": {},
   "outputs": [],
   "source": []
  }
 ],
 "metadata": {
  "kernelspec": {
   "display_name": "Python 3 (ipykernel)",
   "language": "python",
   "name": "python3"
  },
  "language_info": {
   "codemirror_mode": {
    "name": "ipython",
    "version": 3
   },
   "file_extension": ".py",
   "mimetype": "text/x-python",
   "name": "python",
   "nbconvert_exporter": "python",
   "pygments_lexer": "ipython3",
   "version": "3.12.3"
  }
 },
 "nbformat": 4,
 "nbformat_minor": 5
}
