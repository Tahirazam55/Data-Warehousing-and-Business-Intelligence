{
 "cells": [
  {
   "cell_type": "markdown",
   "id": "773cdeab-dca6-4460-ab68-e5e9e7f35a04",
   "metadata": {},
   "source": [
    "## in this notbook we are going to do making data warehousing first we connect postgresql to jupiter notbook for data cleaning\n",
    "## After some data cleaning we will conect jupiter notbook with bigQuery's for making data warehousing "
   ]
  },
  {
   "cell_type": "markdown",
   "id": "525215f1-f1dd-4b26-8b62-4778823e4c2d",
   "metadata": {},
   "source": [
    "## import libaries "
   ]
  },
  {
   "cell_type": "code",
   "execution_count": 5,
   "id": "e4f56321-f1e8-4517-89ae-e76f8138d6fc",
   "metadata": {},
   "outputs": [],
   "source": [
    "import pandas as pd              # Data manipulation with DataFrames\n",
    "from sqlalchemy import create_engine, text  # DB connection and executing SQL\n",
    "import datetime                  # Work with dates and times\n",
    "from google.cloud import bigquery  # Interact with BigQuery\n",
    "from google.oauth2 import service_account  # Authenticate with Google Cloud\n",
    "import warnings\n",
    "warnings.filterwarnings('ignore')  # Suppress warning messages\n"
   ]
  },
  {
   "cell_type": "markdown",
   "id": "2b50b648-07b8-4b38-893a-a92f34810c4e",
   "metadata": {},
   "source": [
    "## connect with postgresql "
   ]
  },
  {
   "cell_type": "code",
   "execution_count": 6,
   "id": "548f7b84-56d9-4a15-9044-c0b5b320c664",
   "metadata": {},
   "outputs": [],
   "source": [
    "# Connection parameters\n",
    "db_user = \"postgres\"         # your PostgreSQL username\n",
    "db_password = \"tahir\"             # Please enter your PostgreSQL password\n",
    "db_host = \"localhost\"        # host (use '127.0.0.1' if localhost doesn't work)\n",
    "db_port = \"5432\"             # default PostgreSQL port\n",
    "db_name = \"sales_db\"     # your database name\n",
    "\n",
    "# Create the connection string\n",
    "connection_string = f\"postgresql://{db_user}:{db_password}@{db_host}:{db_port}/{db_name}\"\n",
    "\n",
    "# Create engine\n",
    "engine = create_engine(connection_string)"
   ]
  },
  {
   "cell_type": "markdown",
   "id": "053deeb1-fc77-42a7-9ce1-8d1cd91846fa",
   "metadata": {},
   "source": [
    "## test the connection "
   ]
  },
  {
   "cell_type": "code",
   "execution_count": 7,
   "id": "06823d20-48a9-41e7-b985-e5477fa2f03e",
   "metadata": {},
   "outputs": [
    {
     "name": "stdout",
     "output_type": "stream",
     "text": [
      "Connected to: PostgreSQL 17.2 on x86_64-windows, compiled by msvc-19.42.34435, 64-bit\n"
     ]
    }
   ],
   "source": [
    "\n",
    "try:\n",
    "    with engine.connect() as conn:\n",
    "        result = conn.execute(text(\"SELECT version();\"))\n",
    "        for row in result:\n",
    "            print(\"Connected to:\", row[0])\n",
    "except Exception as e:\n",
    "    print(\"Connection failed:\", e)\n"
   ]
  },
  {
   "cell_type": "code",
   "execution_count": 16,
   "id": "4c2ca89f-4357-4e77-83c3-00fe92a8b81e",
   "metadata": {},
   "outputs": [
    {
     "data": {
      "text/plain": [
       "<sqlalchemy.sql.elements.TextClause object at 0x000001FE4F51C320>"
      ]
     },
     "execution_count": 16,
     "metadata": {},
     "output_type": "execute_result"
    }
   ],
   "source": [
    "query = text(\"SELECT * FROM items;\")\n",
    "query\n"
   ]
  },
  {
   "cell_type": "code",
   "execution_count": 17,
   "id": "91c7d02b-d8bf-443b-b0c5-c35a2f29152c",
   "metadata": {},
   "outputs": [],
   "source": [
    "# Fetch data into pandas DataFrame\n",
    "df = pd.read_sql(query, engine)"
   ]
  },
  {
   "cell_type": "code",
   "execution_count": 18,
   "id": "8351d252-c78c-4b9a-b6a1-33659e6bf155",
   "metadata": {},
   "outputs": [
    {
     "data": {
      "text/html": [
       "<div>\n",
       "<style scoped>\n",
       "    .dataframe tbody tr th:only-of-type {\n",
       "        vertical-align: middle;\n",
       "    }\n",
       "\n",
       "    .dataframe tbody tr th {\n",
       "        vertical-align: top;\n",
       "    }\n",
       "\n",
       "    .dataframe thead th {\n",
       "        text-align: right;\n",
       "    }\n",
       "</style>\n",
       "<table border=\"1\" class=\"dataframe\">\n",
       "  <thead>\n",
       "    <tr style=\"text-align: right;\">\n",
       "      <th></th>\n",
       "      <th>item_id</th>\n",
       "      <th>item_name</th>\n",
       "      <th>item_type</th>\n",
       "      <th>item_price</th>\n",
       "      <th>amount_in_stock</th>\n",
       "    </tr>\n",
       "  </thead>\n",
       "  <tbody>\n",
       "    <tr>\n",
       "      <th>0</th>\n",
       "      <td>1</td>\n",
       "      <td>Shirt</td>\n",
       "      <td>Clothing</td>\n",
       "      <td>20.99</td>\n",
       "      <td>50</td>\n",
       "    </tr>\n",
       "    <tr>\n",
       "      <th>1</th>\n",
       "      <td>2</td>\n",
       "      <td>Pants</td>\n",
       "      <td>Clothing</td>\n",
       "      <td>29.99</td>\n",
       "      <td>40</td>\n",
       "    </tr>\n",
       "    <tr>\n",
       "      <th>2</th>\n",
       "      <td>3</td>\n",
       "      <td>Shoes</td>\n",
       "      <td>Shoes</td>\n",
       "      <td>49.99</td>\n",
       "      <td>30</td>\n",
       "    </tr>\n",
       "    <tr>\n",
       "      <th>3</th>\n",
       "      <td>4</td>\n",
       "      <td>Hat</td>\n",
       "      <td>Accessories</td>\n",
       "      <td>9.99</td>\n",
       "      <td>60</td>\n",
       "    </tr>\n",
       "    <tr>\n",
       "      <th>4</th>\n",
       "      <td>5</td>\n",
       "      <td>Socks</td>\n",
       "      <td>Accessories</td>\n",
       "      <td>3.99</td>\n",
       "      <td>70</td>\n",
       "    </tr>\n",
       "  </tbody>\n",
       "</table>\n",
       "</div>"
      ],
      "text/plain": [
       "   item_id item_name    item_type  item_price  amount_in_stock\n",
       "0        1     Shirt     Clothing       20.99               50\n",
       "1        2     Pants     Clothing       29.99               40\n",
       "2        3     Shoes        Shoes       49.99               30\n",
       "3        4       Hat  Accessories        9.99               60\n",
       "4        5     Socks  Accessories        3.99               70"
      ]
     },
     "execution_count": 18,
     "metadata": {},
     "output_type": "execute_result"
    }
   ],
   "source": [
    "# Show the data\n",
    "df.head()"
   ]
  },
  {
   "cell_type": "markdown",
   "id": "d5e81df8-584a-4c5f-ba9e-6f3ee076b013",
   "metadata": {},
   "source": [
    "## Data cleaning "
   ]
  },
  {
   "cell_type": "code",
   "execution_count": 19,
   "id": "de710193-0fbb-4d03-ba53-9cbcaefef049",
   "metadata": {},
   "outputs": [
    {
     "data": {
      "text/plain": [
       "item_id            0\n",
       "item_name          0\n",
       "item_type          0\n",
       "item_price         0\n",
       "amount_in_stock    0\n",
       "dtype: int64"
      ]
     },
     "execution_count": 19,
     "metadata": {},
     "output_type": "execute_result"
    }
   ],
   "source": [
    "df.isnull().sum()"
   ]
  },
  {
   "cell_type": "code",
   "execution_count": 20,
   "id": "0c61e348-c542-4010-a420-b8e3d17db2c6",
   "metadata": {},
   "outputs": [
    {
     "data": {
      "text/plain": [
       "item_id              int64\n",
       "item_name           object\n",
       "item_type           object\n",
       "item_price         float64\n",
       "amount_in_stock      int64\n",
       "dtype: object"
      ]
     },
     "execution_count": 20,
     "metadata": {},
     "output_type": "execute_result"
    }
   ],
   "source": [
    "df.dtypes"
   ]
  },
  {
   "cell_type": "code",
   "execution_count": 21,
   "id": "1c19eaa4-cdf9-49dc-9217-d0e05559060b",
   "metadata": {},
   "outputs": [
    {
     "data": {
      "text/plain": [
       "0"
      ]
     },
     "execution_count": 21,
     "metadata": {},
     "output_type": "execute_result"
    }
   ],
   "source": [
    "df.duplicated().sum()"
   ]
  },
  {
   "cell_type": "code",
   "execution_count": 22,
   "id": "9cd62067-1e3b-4a0c-b82b-f8b20713b7ad",
   "metadata": {},
   "outputs": [
    {
     "name": "stdout",
     "output_type": "stream",
     "text": [
      "<class 'pandas.core.frame.DataFrame'>\n",
      "RangeIndex: 60 entries, 0 to 59\n",
      "Data columns (total 5 columns):\n",
      " #   Column           Non-Null Count  Dtype  \n",
      "---  ------           --------------  -----  \n",
      " 0   item_id          60 non-null     int64  \n",
      " 1   item_name        60 non-null     object \n",
      " 2   item_type        60 non-null     object \n",
      " 3   item_price       60 non-null     float64\n",
      " 4   amount_in_stock  60 non-null     int64  \n",
      "dtypes: float64(1), int64(2), object(2)\n",
      "memory usage: 2.5+ KB\n"
     ]
    }
   ],
   "source": [
    "df.info()"
   ]
  },
  {
   "cell_type": "code",
   "execution_count": 24,
   "id": "756004ac-c385-4ee2-9cfc-6bdcf593a5db",
   "metadata": {},
   "outputs": [
    {
     "data": {
      "text/html": [
       "<div>\n",
       "<style scoped>\n",
       "    .dataframe tbody tr th:only-of-type {\n",
       "        vertical-align: middle;\n",
       "    }\n",
       "\n",
       "    .dataframe tbody tr th {\n",
       "        vertical-align: top;\n",
       "    }\n",
       "\n",
       "    .dataframe thead th {\n",
       "        text-align: right;\n",
       "    }\n",
       "</style>\n",
       "<table border=\"1\" class=\"dataframe\">\n",
       "  <thead>\n",
       "    <tr style=\"text-align: right;\">\n",
       "      <th></th>\n",
       "      <th>item_id</th>\n",
       "      <th>item_price</th>\n",
       "      <th>amount_in_stock</th>\n",
       "    </tr>\n",
       "  </thead>\n",
       "  <tbody>\n",
       "    <tr>\n",
       "      <th>count</th>\n",
       "      <td>60.000000</td>\n",
       "      <td>60.000000</td>\n",
       "      <td>60.000000</td>\n",
       "    </tr>\n",
       "    <tr>\n",
       "      <th>mean</th>\n",
       "      <td>30.500000</td>\n",
       "      <td>25.240000</td>\n",
       "      <td>42.500000</td>\n",
       "    </tr>\n",
       "    <tr>\n",
       "      <th>std</th>\n",
       "      <td>17.464249</td>\n",
       "      <td>15.494805</td>\n",
       "      <td>18.537639</td>\n",
       "    </tr>\n",
       "    <tr>\n",
       "      <th>min</th>\n",
       "      <td>1.000000</td>\n",
       "      <td>3.990000</td>\n",
       "      <td>5.000000</td>\n",
       "    </tr>\n",
       "    <tr>\n",
       "      <th>25%</th>\n",
       "      <td>15.750000</td>\n",
       "      <td>12.740000</td>\n",
       "      <td>28.750000</td>\n",
       "    </tr>\n",
       "    <tr>\n",
       "      <th>50%</th>\n",
       "      <td>30.500000</td>\n",
       "      <td>22.990000</td>\n",
       "      <td>45.000000</td>\n",
       "    </tr>\n",
       "    <tr>\n",
       "      <th>75%</th>\n",
       "      <td>45.250000</td>\n",
       "      <td>34.990000</td>\n",
       "      <td>56.250000</td>\n",
       "    </tr>\n",
       "    <tr>\n",
       "      <th>max</th>\n",
       "      <td>60.000000</td>\n",
       "      <td>69.990000</td>\n",
       "      <td>75.000000</td>\n",
       "    </tr>\n",
       "  </tbody>\n",
       "</table>\n",
       "</div>"
      ],
      "text/plain": [
       "         item_id  item_price  amount_in_stock\n",
       "count  60.000000   60.000000        60.000000\n",
       "mean   30.500000   25.240000        42.500000\n",
       "std    17.464249   15.494805        18.537639\n",
       "min     1.000000    3.990000         5.000000\n",
       "25%    15.750000   12.740000        28.750000\n",
       "50%    30.500000   22.990000        45.000000\n",
       "75%    45.250000   34.990000        56.250000\n",
       "max    60.000000   69.990000        75.000000"
      ]
     },
     "execution_count": 24,
     "metadata": {},
     "output_type": "execute_result"
    }
   ],
   "source": [
    "df.describe()"
   ]
  },
  {
   "cell_type": "markdown",
   "id": "8e1db37e-e6cf-4560-a14b-c96b5453915c",
   "metadata": {},
   "source": [
    "# Connect with BigQuery"
   ]
  },
  {
   "cell_type": "code",
   "execution_count": 16,
   "id": "096a1f11-52b8-46c6-9853-e782cbf15412",
   "metadata": {},
   "outputs": [
    {
     "name": "stdout",
     "output_type": "stream",
     "text": [
      "Connected to BigQuery project: datawarehouse8\n"
     ]
    }
   ],
   "source": [
    "credentials = service_account.Credentials.from_service_account_file(\"datawarehouse8-550da3f60e12.json\")\n",
    "client = bigquery.Client(credentials=credentials, project=credentials.project_id)\n",
    "\n",
    "print(\"Connected to BigQuery project:\", client.project)\n"
   ]
  },
  {
   "cell_type": "code",
   "execution_count": 25,
   "id": "cbacb099-4387-4827-8ab9-12802a420659",
   "metadata": {},
   "outputs": [
    {
     "name": "stdout",
     "output_type": "stream",
     "text": [
      "✅ Dataset created or already exists: datawarehouse8\n"
     ]
    }
   ],
   "source": [
    "dataset_ref = bigquery.Dataset(f\"{client.project}.datawarehouse8\")\n",
    "dataset = client.create_dataset(dataset_ref, exists_ok=True)\n",
    "print(\"✅ Dataset created or already exists:\", dataset.dataset_id)\n"
   ]
  },
  {
   "cell_type": "code",
   "execution_count": 26,
   "id": "5d0618dd-22c0-4d5d-8a8d-a6c9dc939e6a",
   "metadata": {},
   "outputs": [
    {
     "name": "stdout",
     "output_type": "stream",
     "text": [
      "✅ Data successfully loaded to BigQuery: datawarehouse8.datawarehouse8.sales_data\n"
     ]
    }
   ],
   "source": [
    "dataset_id = \"datawarehouse8\"          # your dataset name\n",
    "table_name = \"sales_data\"              # your table name\n",
    "table_id = f\"{client.project}.{dataset_id}.{table_name}\"\n",
    "\n",
    "# Load DataFrame to BigQuery\n",
    "job = client.load_table_from_dataframe(df, table_id)\n",
    "job.result()\n",
    "\n",
    "print(\"✅ Data successfully loaded to BigQuery:\", table_id)\n"
   ]
  },
  {
   "cell_type": "code",
   "execution_count": null,
   "id": "d522a297-6636-4e9d-9e9b-ab83b199e561",
   "metadata": {},
   "outputs": [],
   "source": []
  }
 ],
 "metadata": {
  "kernelspec": {
   "display_name": "Python 3 (ipykernel)",
   "language": "python",
   "name": "python3"
  },
  "language_info": {
   "codemirror_mode": {
    "name": "ipython",
    "version": 3
   },
   "file_extension": ".py",
   "mimetype": "text/x-python",
   "name": "python",
   "nbconvert_exporter": "python",
   "pygments_lexer": "ipython3",
   "version": "3.12.3"
  }
 },
 "nbformat": 4,
 "nbformat_minor": 5
}
